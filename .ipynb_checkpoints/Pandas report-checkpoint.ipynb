{
 "cells": [
  {
   "cell_type": "code",
   "execution_count": 1,
   "metadata": {},
   "outputs": [],
   "source": []
  },
  {
   "cell_type": "markdown",
   "metadata": {},
   "source": [
    "# Mini-Project 1: Data Analysis & Visualisation"
   ]
  },
  {
   "cell_type": "markdown",
   "metadata": {},
   "source": [
    "## Dataset description"
   ]
  },
  {
   "cell_type": "markdown",
   "metadata": {},
   "source": [
    "### Finnish bird nesting Atlas:\n",
    "https://www.avoindata.fi/data/en/dataset/lintuatlas\n",
    "\n",
    "The dataset when downloaded provides 3 csv-files and instructions on the contents of it inside a txt-file.\n",
    "\n",
    "The information inside lajit.csv is as follows: an appreviated name for the bird species, scientific name, finnish name, swedish name, english name and a binary mark if the birds information is public.\n",
    "\n",
    "ruudut.csv contains location infromation which I discarded for this assessment. \n",
    "\n",
    "havainnot.csv has informaiton on each sighting from the atlases 1974-97 publication, 1986-89 publication and the combined sighting information. Sightings information cotains: coordinates, nesting certainty number by year and combined and the species apreviation.\n",
    "\n",
    "the file ohje.txt contains the necessary information to map the apropriate full names to the apreviations and numbers.\n",
    "\n",
    "### Visits at the City of Vantaa swimming pools\n",
    "https://www.avoindata.fi/data/en/dataset/vantaan-kaupungin-uimahallien-kaikki-kayntitapahtumat\n",
    "\n",
    "All data contained inside Uimahallien kÑyntitapahtumatv2.csv-file, it seems the text-encoding on the file is off as I'm unable to find the appropriate encoding the display the finnish letters properly even on my own machine. The file contains the date, time, location and entries product sold. \n",
    " \n",
    "### Traffic Accidents in Helsinki\n",
    "https://www.avoindata.fi/data/en/dataset/liikenneonnettomuudet-helsingissa\n",
    "\n",
    "Unfortunatly the english page for this data doesn't contain the appropriate explanation for the data and it's apreviations. The information can be found in Finnish on the on the Finnish page( https://www.avoindata.fi/data/fi/dataset/liikenneonnettomuudet-helsingissa)\n",
    "\n",
    "The dataset is a single csv-file hki_liikenneonnettomuudet.csv, which contains accident category apreviation, north and east cordinates (which are unused for this assessment), accident severity number and year."
   ]
  },
  {
   "cell_type": "markdown",
   "metadata": {},
   "source": [
    "## Demonstrator capabilities"
   ]
  },
  {
   "cell_type": "markdown",
   "metadata": {},
   "source": [
    "The program has a simple user interface implemented using the click library. From the command line interface, one can choose a dataset they are interested in, choose to either receive basic statistics about the data or to go to another menu to choose a premade plotting option. Ones a plotting option is chosen python will open a new window containing the chart chosen. \n",
    "\n",
    "The application is fairly inflexible about the source data and requires an additional data and analysis class in addition to a change in the UI to implement a new dataset. But adding new analysis methods to an existing datset will be rendered in the user interface without requiring any aditional code in the View-module. \n",
    "\n",
    "The plots themselves are fairly simplistic creations as all the datasets are categorical and would require a lot of data massaging to create complex graphs."
   ]
  },
  {
   "cell_type": "markdown",
   "metadata": {},
   "source": [
    "## UML"
   ]
  },
  {
   "cell_type": "markdown",
   "metadata": {},
   "source": [
    "![title](Data_visualization_project.png)"
   ]
  },
  {
   "cell_type": "markdown",
   "metadata": {},
   "source": [
    "## Examples of output"
   ]
  },
  {
   "cell_type": "code",
   "execution_count": 2,
   "metadata": {},
   "outputs": [],
   "source": [
    "import pandas as pd\n",
    "import matplotlib.pyplot as plt\n",
    "from Analysis import PoolAnalysis, AccidentAnalysis, BirdAnalysis\n",
    "pools, accidents, birds = PoolAnalysis(), AccidentAnalysis(), BirdAnalysis()"
   ]
  },
  {
   "cell_type": "code",
   "execution_count": 3,
   "metadata": {},
   "outputs": [
    {
     "data": {
      "text/html": [
       "<div>\n",
       "<style scoped>\n",
       "    .dataframe tbody tr th:only-of-type {\n",
       "        vertical-align: middle;\n",
       "    }\n",
       "\n",
       "    .dataframe tbody tr th {\n",
       "        vertical-align: top;\n",
       "    }\n",
       "\n",
       "    .dataframe thead th {\n",
       "        text-align: right;\n",
       "    }\n",
       "</style>\n",
       "<table border=\"1\" class=\"dataframe\">\n",
       "  <thead>\n",
       "    <tr style=\"text-align: right;\">\n",
       "      <th></th>\n",
       "      <th>Date</th>\n",
       "      <th>Time</th>\n",
       "      <th>Location</th>\n",
       "      <th>Product</th>\n",
       "    </tr>\n",
       "  </thead>\n",
       "  <tbody>\n",
       "    <tr>\n",
       "      <th>count</th>\n",
       "      <td>866729</td>\n",
       "      <td>866729</td>\n",
       "      <td>866729</td>\n",
       "      <td>866729</td>\n",
       "    </tr>\n",
       "    <tr>\n",
       "      <th>unique</th>\n",
       "      <td>362</td>\n",
       "      <td>53174</td>\n",
       "      <td>5</td>\n",
       "      <td>53</td>\n",
       "    </tr>\n",
       "    <tr>\n",
       "      <th>top</th>\n",
       "      <td>17.3.2014</td>\n",
       "      <td>6:00:45</td>\n",
       "      <td>Myyrmäki</td>\n",
       "      <td>Uinti Myyrmäki 1x</td>\n",
       "    </tr>\n",
       "    <tr>\n",
       "      <th>freq</th>\n",
       "      <td>4903</td>\n",
       "      <td>273</td>\n",
       "      <td>360520</td>\n",
       "      <td>109944</td>\n",
       "    </tr>\n",
       "  </tbody>\n",
       "</table>\n",
       "</div>"
      ],
      "text/plain": [
       "             Date     Time  Location             Product\n",
       "count      866729   866729    866729              866729\n",
       "unique        362    53174         5                  53\n",
       "top     17.3.2014  6:00:45  Myyrmäki  Uinti Myyrmäki 1x \n",
       "freq         4903      273    360520              109944"
      ]
     },
     "execution_count": 3,
     "metadata": {},
     "output_type": "execute_result"
    }
   ],
   "source": [
    "pools.get_description()"
   ]
  },
  {
   "cell_type": "code",
   "execution_count": 6,
   "metadata": {},
   "outputs": [
    {
     "data": {
      "text/plain": [
       "<matplotlib.axes._subplots.AxesSubplot at 0x10bab3b70>"
      ]
     },
     "execution_count": 6,
     "metadata": {},
     "output_type": "execute_result"
    },
    {
     "data": {
      "image/png": "[encoded data removed]",
      "text/plain": [
       "<Figure size 432x288 with 1 Axes>"
      ]
     },
     "metadata": {},
     "output_type": "display_data"
    }
   ],
   "source": [
    "pools.ten_most_popular_products(plot=True)"
   ]
  },
  {
   "cell_type": "code",
   "execution_count": 9,
   "metadata": {},
   "outputs": [
    {
     "data": {
      "text/html": [
       "<div>\n",
       "<style scoped>\n",
       "    .dataframe tbody tr th:only-of-type {\n",
       "        vertical-align: middle;\n",
       "    }\n",
       "\n",
       "    .dataframe tbody tr th {\n",
       "        vertical-align: top;\n",
       "    }\n",
       "\n",
       "    .dataframe thead th {\n",
       "        text-align: right;\n",
       "    }\n",
       "</style>\n",
       "<table border=\"1\" class=\"dataframe\">\n",
       "  <thead>\n",
       "    <tr style=\"text-align: right;\">\n",
       "      <th></th>\n",
       "      <th>fatality</th>\n",
       "      <th>injury</th>\n",
       "      <th>property damage</th>\n",
       "      <th>bicycle</th>\n",
       "      <th>car</th>\n",
       "      <th>motorbike</th>\n",
       "      <th>pedestrian</th>\n",
       "    </tr>\n",
       "    <tr>\n",
       "      <th>Year</th>\n",
       "      <th></th>\n",
       "      <th></th>\n",
       "      <th></th>\n",
       "      <th></th>\n",
       "      <th></th>\n",
       "      <th></th>\n",
       "      <th></th>\n",
       "    </tr>\n",
       "  </thead>\n",
       "  <tbody>\n",
       "    <tr>\n",
       "      <th>2000</th>\n",
       "      <td>14</td>\n",
       "      <td>689</td>\n",
       "      <td>2452</td>\n",
       "      <td>189</td>\n",
       "      <td>2649</td>\n",
       "      <td>75</td>\n",
       "      <td>242</td>\n",
       "    </tr>\n",
       "    <tr>\n",
       "      <th>2001</th>\n",
       "      <td>11</td>\n",
       "      <td>639</td>\n",
       "      <td>2224</td>\n",
       "      <td>145</td>\n",
       "      <td>2432</td>\n",
       "      <td>73</td>\n",
       "      <td>224</td>\n",
       "    </tr>\n",
       "    <tr>\n",
       "      <th>2002</th>\n",
       "      <td>16</td>\n",
       "      <td>587</td>\n",
       "      <td>2079</td>\n",
       "      <td>162</td>\n",
       "      <td>2231</td>\n",
       "      <td>83</td>\n",
       "      <td>206</td>\n",
       "    </tr>\n",
       "    <tr>\n",
       "      <th>2003</th>\n",
       "      <td>16</td>\n",
       "      <td>551</td>\n",
       "      <td>1852</td>\n",
       "      <td>150</td>\n",
       "      <td>2027</td>\n",
       "      <td>66</td>\n",
       "      <td>176</td>\n",
       "    </tr>\n",
       "    <tr>\n",
       "      <th>2004</th>\n",
       "      <td>9</td>\n",
       "      <td>550</td>\n",
       "      <td>1862</td>\n",
       "      <td>137</td>\n",
       "      <td>2020</td>\n",
       "      <td>94</td>\n",
       "      <td>170</td>\n",
       "    </tr>\n",
       "    <tr>\n",
       "      <th>2005</th>\n",
       "      <td>9</td>\n",
       "      <td>543</td>\n",
       "      <td>1922</td>\n",
       "      <td>143</td>\n",
       "      <td>2089</td>\n",
       "      <td>99</td>\n",
       "      <td>143</td>\n",
       "    </tr>\n",
       "    <tr>\n",
       "      <th>2006</th>\n",
       "      <td>13</td>\n",
       "      <td>505</td>\n",
       "      <td>1994</td>\n",
       "      <td>151</td>\n",
       "      <td>2063</td>\n",
       "      <td>134</td>\n",
       "      <td>164</td>\n",
       "    </tr>\n",
       "    <tr>\n",
       "      <th>2007</th>\n",
       "      <td>11</td>\n",
       "      <td>513</td>\n",
       "      <td>2111</td>\n",
       "      <td>175</td>\n",
       "      <td>2178</td>\n",
       "      <td>121</td>\n",
       "      <td>161</td>\n",
       "    </tr>\n",
       "    <tr>\n",
       "      <th>2008</th>\n",
       "      <td>12</td>\n",
       "      <td>550</td>\n",
       "      <td>2009</td>\n",
       "      <td>178</td>\n",
       "      <td>2096</td>\n",
       "      <td>130</td>\n",
       "      <td>167</td>\n",
       "    </tr>\n",
       "    <tr>\n",
       "      <th>2009</th>\n",
       "      <td>6</td>\n",
       "      <td>480</td>\n",
       "      <td>1808</td>\n",
       "      <td>177</td>\n",
       "      <td>1869</td>\n",
       "      <td>110</td>\n",
       "      <td>138</td>\n",
       "    </tr>\n",
       "    <tr>\n",
       "      <th>2010</th>\n",
       "      <td>5</td>\n",
       "      <td>540</td>\n",
       "      <td>2559</td>\n",
       "      <td>180</td>\n",
       "      <td>2632</td>\n",
       "      <td>155</td>\n",
       "      <td>137</td>\n",
       "    </tr>\n",
       "    <tr>\n",
       "      <th>2011</th>\n",
       "      <td>8</td>\n",
       "      <td>499</td>\n",
       "      <td>2331</td>\n",
       "      <td>181</td>\n",
       "      <td>2380</td>\n",
       "      <td>130</td>\n",
       "      <td>147</td>\n",
       "    </tr>\n",
       "    <tr>\n",
       "      <th>2012</th>\n",
       "      <td>9</td>\n",
       "      <td>456</td>\n",
       "      <td>2600</td>\n",
       "      <td>169</td>\n",
       "      <td>2646</td>\n",
       "      <td>112</td>\n",
       "      <td>138</td>\n",
       "    </tr>\n",
       "    <tr>\n",
       "      <th>2013</th>\n",
       "      <td>9</td>\n",
       "      <td>400</td>\n",
       "      <td>2080</td>\n",
       "      <td>183</td>\n",
       "      <td>2093</td>\n",
       "      <td>107</td>\n",
       "      <td>106</td>\n",
       "    </tr>\n",
       "    <tr>\n",
       "      <th>2014</th>\n",
       "      <td>6</td>\n",
       "      <td>374</td>\n",
       "      <td>1801</td>\n",
       "      <td>174</td>\n",
       "      <td>1821</td>\n",
       "      <td>112</td>\n",
       "      <td>74</td>\n",
       "    </tr>\n",
       "    <tr>\n",
       "      <th>2015</th>\n",
       "      <td>12</td>\n",
       "      <td>371</td>\n",
       "      <td>1680</td>\n",
       "      <td>161</td>\n",
       "      <td>1673</td>\n",
       "      <td>110</td>\n",
       "      <td>119</td>\n",
       "    </tr>\n",
       "  </tbody>\n",
       "</table>\n",
       "</div>"
      ],
      "text/plain": [
       "      fatality  injury  property damage  bicycle   car  motorbike  pedestrian\n",
       "Year                                                                         \n",
       "2000        14     689             2452      189  2649         75         242\n",
       "2001        11     639             2224      145  2432         73         224\n",
       "2002        16     587             2079      162  2231         83         206\n",
       "2003        16     551             1852      150  2027         66         176\n",
       "2004         9     550             1862      137  2020         94         170\n",
       "2005         9     543             1922      143  2089         99         143\n",
       "2006        13     505             1994      151  2063        134         164\n",
       "2007        11     513             2111      175  2178        121         161\n",
       "2008        12     550             2009      178  2096        130         167\n",
       "2009         6     480             1808      177  1869        110         138\n",
       "2010         5     540             2559      180  2632        155         137\n",
       "2011         8     499             2331      181  2380        130         147\n",
       "2012         9     456             2600      169  2646        112         138\n",
       "2013         9     400             2080      183  2093        107         106\n",
       "2014         6     374             1801      174  1821        112          74\n",
       "2015        12     371             1680      161  1673        110         119"
      ]
     },
     "execution_count": 9,
     "metadata": {},
     "output_type": "execute_result"
    },
    {
     "data": {
      "image/png": "[encoded data removed]",
      "text/plain": [
       "<Figure size 432x288 with 1 Axes>"
      ]
     },
     "metadata": {},
     "output_type": "display_data"
    }
   ],
   "source": [
    "accidents.accidents_over_time_by_severity_and_category(plot=True)"
   ]
  },
  {
   "cell_type": "code",
   "execution_count": null,
   "metadata": {},
   "outputs": [],
   "source": []
  }
 ],
 "metadata": {
  "kernelspec": {
   "display_name": "Python 3",
   "language": "python",
   "name": "python3"
  },
  "language_info": {
   "codemirror_mode": {
    "name": "ipython",
    "version": 3
   },
   "file_extension": ".py",
   "mimetype": "text/x-python",
   "name": "python",
   "nbconvert_exporter": "python",
   "pygments_lexer": "ipython3",
   "version": "3.6.4"
  }
 },
 "nbformat": 4,
 "nbformat_minor": 2
}
